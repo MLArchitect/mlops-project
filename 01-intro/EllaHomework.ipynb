{
 "cells": [
  {
   "cell_type": "code",
   "execution_count": null,
   "id": "59d0e084",
   "metadata": {},
   "outputs": [],
   "source": [
    "lkmfd;lfd,d;rlkdfsg"
   ]
  }
 ],
 "metadata": {
  "language_info": {
   "name": "python"
  }
 },
 "nbformat": 4,
 "nbformat_minor": 5
}
